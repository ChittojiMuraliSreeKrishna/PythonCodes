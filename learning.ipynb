{
 "cells": [
  {
   "cell_type": "code",
   "execution_count": 5,
   "metadata": {},
   "outputs": [
    {
     "name": "stdout",
     "output_type": "stream",
     "text": [
      "hello world\n"
     ]
    }
   ],
   "source": [
    "print(\"hello world\")"
   ]
  },
  {
   "cell_type": "markdown",
   "metadata": {},
   "source": [
    "# general"
   ]
  },
  {
   "cell_type": "code",
   "execution_count": 35,
   "metadata": {},
   "outputs": [
    {
     "name": "stdout",
     "output_type": "stream",
     "text": [
      "name :MURALI SREE KRISHNA CHITTOJI, age : 22\n",
      "Gender : MALE\n",
      "worthy : 1000 %\n"
     ]
    }
   ],
   "source": [
    "age = 22\n",
    "name = \"Murali Sree Krishna C\"\n",
    "print(\"name :\"+name.replace(\"C\", \"chittoji\").upper()+\", age :\",age)\n",
    "male = True\n",
    "if male == True:\n",
    "    gender = \"male\"\n",
    "else:\n",
    "    gender = \"female\"\n",
    "print(\"Gender :\", gender.upper())\n",
    "print(\"worthy :\", 10**3,\"%\")"
   ]
  },
  {
   "cell_type": "code",
   "execution_count": 45,
   "metadata": {},
   "outputs": [
    {
     "name": "stdout",
     "output_type": "stream",
     "text": [
      "16\n"
     ]
    }
   ],
   "source": [
    "x = 10 + 3 * 2\n",
    "print(x)"
   ]
  },
  {
   "cell_type": "code",
   "execution_count": 53,
   "metadata": {},
   "outputs": [
    {
     "name": "stdout",
     "output_type": "stream",
     "text": [
      "True\n",
      "costly\n"
     ]
    }
   ],
   "source": [
    "price = 25\n",
    "print(price > 10 and price < 30)\n",
    "if price > 10:\n",
    "    print(\"costly\")"
   ]
  },
  {
   "cell_type": "code",
   "execution_count": 4,
   "metadata": {},
   "outputs": [
    {
     "name": "stdout",
     "output_type": "stream",
     "text": [
      "*****\n",
      "****\n",
      "***\n",
      "**\n",
      "*\n"
     ]
    }
   ],
   "source": [
    "i = 5\n",
    "while i > 0:\n",
    "    print(i * '*')\n",
    "    i = i - 1"
   ]
  },
  {
   "cell_type": "code",
   "execution_count": 67,
   "metadata": {},
   "outputs": [
    {
     "name": "stdout",
     "output_type": "stream",
     "text": [
      "['warlord', 'bob']\n",
      "5\n"
     ]
    }
   ],
   "source": [
    "names = [\"john\", \"bob\", \"mosh\", \"sam\", \"mary\"]\n",
    "names[-5] = \"warlord\"\n",
    "print(names[-5:-3])\n",
    "print(len(names))"
   ]
  },
  {
   "cell_type": "code",
   "execution_count": 9,
   "metadata": {},
   "outputs": [
    {
     "name": "stdout",
     "output_type": "stream",
     "text": [
      "1\n",
      "2\n",
      "3\n",
      "4\n",
      "5\n",
      "10\n",
      "11\n",
      "12\n",
      "13\n",
      "14\n",
      "15\n",
      "16\n",
      "17\n",
      "18\n",
      "19\n"
     ]
    }
   ],
   "source": [
    "numbers = [1, 2, 3, 4, 5]\n",
    "for item in numbers:\n",
    "    print(item)\n",
    "number = range(10 , 20)\n",
    "for j in number:\n",
    "    print(j)"
   ]
  },
  {
   "cell_type": "code",
   "execution_count": 13,
   "metadata": {},
   "outputs": [
    {
     "name": "stdout",
     "output_type": "stream",
     "text": [
      "<class 'int'>\n",
      "<class 'float'>\n",
      "<class 'str'>\n",
      "<class 'bool'>\n"
     ]
    }
   ],
   "source": [
    "x = 1\n",
    "y = 1.0\n",
    "z = \"hey there\"\n",
    "X = True\n",
    "print(type(x))\n",
    "print(type(y))\n",
    "print(type(z))\n",
    "print(type(X))"
   ]
  },
  {
   "cell_type": "code",
   "execution_count": 16,
   "metadata": {},
   "outputs": [
    {
     "name": "stdout",
     "output_type": "stream",
     "text": [
      "bark\n",
      "<class '__main__.dog'>\n"
     ]
    }
   ],
   "source": [
    "class dog:\n",
    "    \n",
    "    def bark(self):\n",
    "        print('bark')\n",
    "d = dog()\n",
    "d.bark()\n",
    "print(type(d))"
   ]
  },
  {
   "cell_type": "markdown",
   "metadata": {},
   "source": [
    "# pyramid"
   ]
  },
  {
   "cell_type": "code",
   "execution_count": 25,
   "metadata": {},
   "outputs": [
    {
     "name": "stdout",
     "output_type": "stream",
     "text": [
      "enter your number of rows :5\n",
      "1\n",
      "22\n",
      "333\n",
      "4444\n",
      "55555\n"
     ]
    }
   ],
   "source": [
    "n = int(input('enter your number of rows :'))\n",
    "for i in range(1, n+1):\n",
    "    for j in range(1, i+1):\n",
    "        print(i, end=\"\")\n",
    "        #print(j, end=\"\")\n",
    "    print()"
   ]
  },
  {
   "cell_type": "code",
   "execution_count": 26,
   "metadata": {},
   "outputs": [
    {
     "name": "stdout",
     "output_type": "stream",
     "text": [
      "enter the number of rows :5\n",
      "    1\n",
      "   212\n",
      "  32123\n",
      " 4321234\n",
      "543212345\n"
     ]
    }
   ],
   "source": [
    "# pyramid\n",
    "num = int(input('enter the number of rows :'))\n",
    "for i in range(1, num+1):\n",
    "    for j in range(1, num-i+1):\n",
    "        print(end=\" \")\n",
    "    for j in range(i, 0, -1):\n",
    "        print(j, end=\"\")\n",
    "    for j in range(2,i+1):\n",
    "        print(j,end=\"\")\n",
    "    print()"
   ]
  },
  {
   "cell_type": "code",
   "execution_count": 37,
   "metadata": {},
   "outputs": [
    {
     "data": {
      "text/plain": [
       "['hey there', 4, 8, 6, ['hey', 'you'], 9]"
      ]
     },
     "execution_count": 37,
     "metadata": {},
     "output_type": "execute_result"
    }
   ],
   "source": [
    "#lists\n",
    "list = [\"hey there\",4,5,6,[\"hey\",\"you\"]]\n",
    "list[2] = 8\n",
    "list.append(9)\n",
    "list"
   ]
  },
  {
   "cell_type": "code",
   "execution_count": 36,
   "metadata": {},
   "outputs": [
    {
     "name": "stdout",
     "output_type": "stream",
     "text": [
      "<class 'tuple'>\n"
     ]
    },
    {
     "data": {
      "text/plain": [
       "(2, (5, 8), 'hello')"
      ]
     },
     "execution_count": 36,
     "metadata": {},
     "output_type": "execute_result"
    }
   ],
   "source": [
    "# tuples\n",
    "tuple = (2,(5,8),\"hello\")\n",
    "print(type(tuple))\n",
    "tuple"
   ]
  },
  {
   "cell_type": "code",
   "execution_count": 55,
   "metadata": {},
   "outputs": [
    {
     "data": {
      "text/plain": [
       "{'email': 'cmkrishna97@gmail.com',\n",
       " 'mob_number': '99725777728',\n",
       " 'value': [5, 6]}"
      ]
     },
     "execution_count": 55,
     "metadata": {},
     "output_type": "execute_result"
    }
   ],
   "source": [
    "# dictonary\n",
    "dict = {\"email\":\"cmkrishna97@gmail.com\", \"mob_number\":\"99725777728\", \"value\":[5,6]}\n",
    "dict[\"email\"]\n",
    "dict"
   ]
  },
  {
   "cell_type": "code",
   "execution_count": 54,
   "metadata": {},
   "outputs": [
    {
     "name": "stdout",
     "output_type": "stream",
     "text": [
      "<class 'set'>\n"
     ]
    },
    {
     "data": {
      "text/plain": [
       "{1, 2, 3, 4, 4.5, 7, 'hello'}"
      ]
     },
     "execution_count": 54,
     "metadata": {},
     "output_type": "execute_result"
    }
   ],
   "source": [
    "# set\n",
    "s = {1,2,3,4,3,2,1,'hello',4.5}\n",
    "s.add(7)\n",
    "print(type(s))\n",
    "s"
   ]
  },
  {
   "cell_type": "code",
   "execution_count": 65,
   "metadata": {},
   "outputs": [
    {
     "data": {
      "text/plain": [
       "4"
      ]
     },
     "execution_count": 65,
     "metadata": {},
     "output_type": "execute_result"
    }
   ],
   "source": [
    "# stack {first in last out}\n",
    "stack = []\n",
    "stack.append(10)\n",
    "stack.append(20)\n",
    "stack.append(30)\n",
    "stack\n",
    "stack.pop()\n",
    "stack.pop()\n",
    "stack.pop()\n",
    "stack1 = []\n",
    "len(stack1) == 0\n",
    "stack1.append(2)\n",
    "stack1.append(4)\n",
    "stack1[-1]"
   ]
  }
 ],
 "metadata": {
  "kernelspec": {
   "display_name": "Python 3",
   "language": "python",
   "name": "python3"
  },
  "language_info": {
   "codemirror_mode": {
    "name": "ipython",
    "version": 3
   },
   "file_extension": ".py",
   "mimetype": "text/x-python",
   "name": "python",
   "nbconvert_exporter": "python",
   "pygments_lexer": "ipython3",
   "version": "3.8.5"
  }
 },
 "nbformat": 4,
 "nbformat_minor": 4
}
