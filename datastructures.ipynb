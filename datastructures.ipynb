{
 "cells": [
  {
   "cell_type": "markdown",
   "metadata": {},
   "source": [
    "# indexing"
   ]
  },
  {
   "cell_type": "code",
   "execution_count": 5,
   "metadata": {},
   "outputs": [
    {
     "name": "stdout",
     "output_type": "stream",
     "text": [
      "omp\n",
      "com\n",
      "puter\n",
      "opt\n"
     ]
    }
   ],
   "source": [
    "x = 'computer'\n",
    "print(x[1:4])\n",
    "print(x[:3])\n",
    "print(x[3:])\n",
    "print(x[1:6:2])"
   ]
  },
  {
   "cell_type": "code",
   "execution_count": 6,
   "metadata": {},
   "outputs": [
    {
     "name": "stdout",
     "output_type": "stream",
     "text": [
      "austinpolo\n"
     ]
    }
   ],
   "source": [
    "x = 'austin' + 'polo'\n",
    "print(x)"
   ]
  },
  {
   "cell_type": "code",
   "execution_count": 7,
   "metadata": {},
   "outputs": [
    {
     "name": "stdout",
     "output_type": "stream",
     "text": [
      "[8, 5]\n",
      "(1, 2, 3.0)\n",
      "False True\n",
      "3\n",
      "5\n",
      "[1, 2, 3.0]\n"
     ]
    }
   ],
   "source": [
    "y = [8,5]\n",
    "y1 = (1,2,3.0)\n",
    "print(y)\n",
    "print(y1)\n",
    "print(6 in y, 5 in y)\n",
    "print(len(y1))\n",
    "print(min(y))\n",
    "print(sorted(y1))"
   ]
  },
  {
   "cell_type": "markdown",
   "metadata": {},
   "source": [
    "# lists"
   ]
  },
  {
   "cell_type": "code",
   "execution_count": 8,
   "metadata": {},
   "outputs": [
    {
     "data": {
      "text/plain": [
       "[1, 3, 4, 9, (1, 2, 3.0)]"
      ]
     },
     "execution_count": 8,
     "metadata": {},
     "output_type": "execute_result"
    }
   ],
   "source": [
    "xin = [1, 2, 3, 4]\n",
    "del(xin[1])\n",
    "xin.append(9)\n",
    "xin.append(y1)\n",
    "y1 += (5,)\n",
    "xin"
   ]
  },
  {
   "cell_type": "code",
   "execution_count": 9,
   "metadata": {},
   "outputs": [
    {
     "name": "stdout",
     "output_type": "stream",
     "text": [
      "5\n"
     ]
    },
    {
     "data": {
      "text/plain": [
       "{1, 2, 3, 4, 7}"
      ]
     },
     "execution_count": 9,
     "metadata": {},
     "output_type": "execute_result"
    }
   ],
   "source": [
    "set = {1,2,3,4}\n",
    "set.add(7)\n",
    "print(len(set))\n",
    "set"
   ]
  },
  {
   "cell_type": "code",
   "execution_count": 10,
   "metadata": {},
   "outputs": [
    {
     "name": "stdout",
     "output_type": "stream",
     "text": [
      "dict_keys(['murali', 'sona', 'rohith reddy'])\n",
      "dict_values([11, 21, 53])\n",
      "dict_items([('murali', 11), ('sona', 21), ('rohith reddy', 53)])\n"
     ]
    }
   ],
   "source": [
    "dict = {\"murali\":11, \"sona\":21, \"rohith reddy\":53}\n",
    "print(dict.keys())\n",
    "print(dict.values())\n",
    "print(dict.items())"
   ]
  },
  {
   "cell_type": "code",
   "execution_count": 11,
   "metadata": {},
   "outputs": [
    {
     "name": "stdout",
     "output_type": "stream",
     "text": [
      "murali 11\n",
      "sona 21\n",
      "rohith reddy 53\n"
     ]
    }
   ],
   "source": [
    "for key in dict:\n",
    "    print(key, dict[key])"
   ]
  },
  {
   "cell_type": "code",
   "execution_count": 12,
   "metadata": {},
   "outputs": [
    {
     "name": "stdout",
     "output_type": "stream",
     "text": [
      "squares: [0, 1, 4, 9, 16, 25, 36, 49, 64, 81]\n"
     ]
    }
   ],
   "source": [
    "import random\n",
    "range_10 = [x**2 for x in range(10)]\n",
    "print('squares:', range_10)"
   ]
  },
  {
   "cell_type": "code",
   "execution_count": 13,
   "metadata": {},
   "outputs": [
    {
     "name": "stdout",
     "output_type": "stream",
     "text": [
      "nums: 248\n"
     ]
    }
   ],
   "source": [
    "s = 'i have 2 study 4 mywork 8'\n",
    "nums = [x for x in s if x.isnumeric()]\n",
    "print('nums:',''.join(nums))"
   ]
  },
  {
   "cell_type": "markdown",
   "metadata": {},
   "source": [
    "# stacks { first in last out }"
   ]
  },
  {
   "cell_type": "code",
   "execution_count": 14,
   "metadata": {},
   "outputs": [
    {
     "name": "stdout",
     "output_type": "stream",
     "text": [
      "4\n"
     ]
    },
    {
     "data": {
      "text/plain": [
       "[1, 2, 3]"
      ]
     },
     "execution_count": 14,
     "metadata": {},
     "output_type": "execute_result"
    }
   ],
   "source": [
    "s1 = [1,2]\n",
    "s1.append(3)\n",
    "s1.append(4)\n",
    "print(s1.pop())\n",
    "s1"
   ]
  },
  {
   "cell_type": "code",
   "execution_count": 15,
   "metadata": {},
   "outputs": [
    {
     "name": "stdout",
     "output_type": "stream",
     "text": [
      "Enter the value of n: 5\n",
      "Sum of first 5 natural numbers is:  15\n"
     ]
    }
   ],
   "source": [
    "num = int(input(\"Enter the value of n: \"))\n",
    "hold = num\n",
    "sum = 0\n",
    "\n",
    "if num <= 0: \n",
    "   print(\"Enter a whole positive number!\") \n",
    "else: \n",
    "   while num > 0:\n",
    "        sum = sum + num\n",
    "        num = num - 1\n",
    "print(\"Sum of first\", hold, \"natural numbers is: \", sum)"
   ]
  },
  {
   "cell_type": "code",
   "execution_count": 18,
   "metadata": {},
   "outputs": [
    {
     "name": "stdout",
     "output_type": "stream",
     "text": [
      "under_10: [0, 1, 2, 3, 4, 5, 6, 7, 8, 9] austinpolo\n"
     ]
    }
   ],
   "source": [
    "import random\n",
    "under_10 =[x for x in range(10)]\n",
    "print('under_10:',under_10)"
   ]
  },
  {
   "cell_type": "code",
   "execution_count": 24,
   "metadata": {},
   "outputs": [
    {
     "name": "stdout",
     "output_type": "stream",
     "text": [
      "ilaruM\n"
     ]
    }
   ],
   "source": [
    "name = 'Murali'\n",
    "revName = ''\n",
    "for i in name:\n",
    "    revName = i+revName\n",
    "print(revName)"
   ]
  },
  {
   "cell_type": "markdown",
   "metadata": {},
   "source": [
    "# queue { first in first out }\n",
    "## pririoty queue { highest priority taken first }\n",
    ">we can set the lowest valuest values highest pririty \n",
    ">or highest value high priority\n",
    "---\n",
    "### lowest have high priority :\n",
    "|10|20|40|80|100|90|30|\n",
    "|--|--|--|--|---|--|--|\n",
    "| 1| 2| 4| 5|  7| 6| 3|"
   ]
  },
  {
   "cell_type": "code",
   "execution_count": 33,
   "metadata": {},
   "outputs": [
    {
     "data": {
      "text/plain": [
       "[(1, 'warlord')]"
      ]
     },
     "execution_count": 33,
     "metadata": {},
     "output_type": "execute_result"
    }
   ],
   "source": [
    "import queue\n",
    "q = queue.PriorityQueue()\n",
    "q.put(10)\n",
    "q.put(60)\n",
    "q.put(20)\n",
    "q.put(40)\n",
    "q.get()\n",
    "q.get()\n",
    "# for appending tuples\n",
    "p = []\n",
    "p.append((1,\"warlord\"))\n",
    "p"
   ]
  },
  {
   "cell_type": "markdown",
   "metadata": {},
   "source": [
    "# linked List\n",
    ">it is a chain of nodes"
   ]
  },
  {
   "cell_type": "code",
   "execution_count": 34,
   "metadata": {},
   "outputs": [
    {
     "name": "stdout",
     "output_type": "stream",
     "text": [
      "20\n",
      "10\n"
     ]
    }
   ],
   "source": [
    "class Node:\n",
    "    def __init__(self, data):\n",
    "        self.data = data\n",
    "        self.ref = None\n",
    "class linkedList:\n",
    "    def __init__(self):\n",
    "        self.head = None\n",
    "    def PrintLL(self):\n",
    "        n = self.head\n",
    "        if n is None:\n",
    "            print(\"linked list is empty\")\n",
    "        else:\n",
    "            while n != None:\n",
    "                print(n.data)\n",
    "                n = n.ref\n",
    "    def add_begin(self,data):\n",
    "        new_node = Node(data)\n",
    "        new_node.ref = self.head\n",
    "        self.head = new_node\n",
    "        \n",
    "ll1 = linkedList()\n",
    "ll1.add_begin(10)\n",
    "ll1.add_begin(20)\n",
    "ll1.PrintLL()"
   ]
  },
  {
   "cell_type": "code",
   "execution_count": null,
   "metadata": {},
   "outputs": [],
   "source": []
  }
 ],
 "metadata": {
  "kernelspec": {
   "display_name": "Python 3",
   "language": "python",
   "name": "python3"
  },
  "language_info": {
   "codemirror_mode": {
    "name": "ipython",
    "version": 3
   },
   "file_extension": ".py",
   "mimetype": "text/x-python",
   "name": "python",
   "nbconvert_exporter": "python",
   "pygments_lexer": "ipython3",
   "version": "3.8.5"
  }
 },
 "nbformat": 4,
 "nbformat_minor": 4
}
